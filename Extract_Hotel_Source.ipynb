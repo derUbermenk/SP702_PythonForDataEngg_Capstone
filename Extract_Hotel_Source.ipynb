{
 "cells": [
  {
   "cell_type": "code",
   "execution_count": 7,
   "id": "electric-summary",
   "metadata": {},
   "outputs": [],
   "source": [
    "# import libraries\n",
    "from bs4 import BeautifulSoup\n",
    "import requests\n",
    "\n",
    "url  = 'https://ph.hotels.com/search.do?q-destination=Philippines&destination-id=10233139&as-shown=false&q-localised-check-in=06%2F04%2F2021&q-check-in=2021-04-06&q-localised-check-out=07%2F04%2F2021&q-check-out=2021-04-07&q-rooms=1&q-room-0-adults=2&q-room-0-children=0&intlid=modular%20country%20landing%20%3A%3A%20SQM'\n",
    "page = requests.get(url)             # connect to we'bsite\n",
    "#soup = BeautifulSoup(page.contents, 'html.parser')   # vanilla call\n",
    "soup = BeautifulSoup(page.text)                # use instead if returning different html formats, which is in my case"
   ]
  },
  {
   "cell_type": "code",
   "execution_count": 8,
   "id": "secret-borough",
   "metadata": {
    "tags": []
   },
   "outputs": [],
   "source": [
    "# hotel_cards :: BeautifulSoup Object per hotel card in site, with tag li\n",
    "hotel_cardsBS = soup.select_one('body div#root ._24UiGk ._3umLRC ._3xUi2p ._3N2dPv ._1myav2 .RO5S5p ul._3f26d2')   # BeautifulSoup object of containing all cards"
   ]
  },
  {
   "cell_type": "code",
   "execution_count": 9,
   "id": "talented-attitude",
   "metadata": {},
   "outputs": [
    {
     "name": "stdout",
     "output_type": "stream",
     "text": [
      "we have 74 distinct hotels\n"
     ]
    }
   ],
   "source": [
    "hotel_cards = hotel_cardsBS.find_all('li') # creates one BS obj per card from hotel card BeautifulSoup\n",
    "print('we have {0} distinct hotels'.format(len(hotel_cards)))"
   ]
  },
  {
   "cell_type": "markdown",
   "id": "complicated-writing",
   "metadata": {},
   "source": [
    "<h3> <b> Inspecting one of the hotel cards </b> </h3>\n",
    "Upon inspection the ff were idd.\n",
    "<li> an a tag with further data given by the attribute href\n",
    "<li> address: in _2oHhXM contains address with format: specific, town/city, zip, province, Philippines \n",
    "<li> amenities: in ?\n",
    "<li> price: in ? #rate is one day for 2 persons\n",
    "<li> h ref has it all, must go to href for number of rooms\n",
    "<blockquote>\n",
    "    <li> number of rooms in:\n",
    "    <li> customer reviews in:\n",
    "    <li> add landmarks, and getting around: in \n",
    "</blockquote>"
   ]
  },
  {
   "cell_type": "code",
   "execution_count": 10,
   "id": "homeless-absence",
   "metadata": {},
   "outputs": [],
   "source": [
    "# try getting information from 1 hotel card\n",
    "# proof of concept\n",
    "hotel_sample = hotel_cards[0]"
   ]
  },
  {
   "cell_type": "code",
   "execution_count": 11,
   "id": "apart-bradford",
   "metadata": {},
   "outputs": [
    {
     "data": {
      "text/plain": [
       "'Conrad Manila'"
      ]
     },
     "execution_count": 11,
     "metadata": {},
     "output_type": "execute_result"
    }
   ],
   "source": [
    "hotel_name = hotel_sample.find('a')['aria-label']\n",
    "hotel_name\n"
   ]
  },
  {
   "cell_type": "code",
   "execution_count": 18,
   "id": "manufactured-booth",
   "metadata": {},
   "outputs": [
    {
     "data": {
      "text/plain": [
       "'9.0.'"
      ]
     },
     "execution_count": 18,
     "metadata": {},
     "output_type": "execute_result"
    }
   ],
   "source": [
    "rating = hotel_sample.find(class_='_1biq31').get_text()\n",
    "rating"
   ]
  },
  {
   "cell_type": "code",
   "execution_count": 134,
   "id": "seasonal-jewel",
   "metadata": {},
   "outputs": [
    {
     "data": {
      "text/plain": [
       "['Pool', 'Free parking', 'Airport transfer', 'Spa', 'Gym', 'Restaurant']"
      ]
     },
     "execution_count": 134,
     "metadata": {},
     "output_type": "execute_result"
    }
   ],
   "source": [
    "amneties = hotel_sample.find(class_='_1CyeN6')\n",
    "amneties_col = amneties.select('li') # generates a list of all lis\n",
    "\n",
    "get_amnety = lambda bs4_obj: bs4_obj.select('span')[-1].get_text()  # the amnety text is in the last entry with tag span\n",
    "\n",
    "amneties_col = [get_amnety(amnety) for amnety in amneties_col]      # process amneties collection further\n",
    "amneties_col"
   ]
  },
  {
   "cell_type": "code",
   "execution_count": 17,
   "id": "fatty-survival",
   "metadata": {},
   "outputs": [
    {
     "data": {
      "text/plain": [
       "'Seaside Boulevard, Corner of Coral Way, Pasay, 1300, Manila, Philippines'"
      ]
     },
     "execution_count": 17,
     "metadata": {},
     "output_type": "execute_result"
    }
   ],
   "source": [
    "address = hotel_sample.find(class_='_2oHhXM').get_text()\n",
    "address"
   ]
  },
  {
   "cell_type": "code",
   "execution_count": 39,
   "id": "southern-printer",
   "metadata": {},
   "outputs": [
    {
     "data": {
      "text/plain": [
       "'P6,699'"
      ]
     },
     "execution_count": 39,
     "metadata": {},
     "output_type": "execute_result"
    }
   ],
   "source": [
    "price = hotel_sample.find('span', class_='_2R4dw5').get_text()\n",
    "price   # preprocess mo pa to"
   ]
  },
  {
   "cell_type": "code",
   "execution_count": 76,
   "id": "answering-justice",
   "metadata": {},
   "outputs": [],
   "source": [
    "href = hotel_sample.find('a')['href']\n",
    "href_url = 'https://ph.hotels.com'+ href\n",
    "\n",
    "# open the page and get the ff\n",
    "# number of roms\n",
    "# customer review\n",
    "# landmarks\n",
    "\n",
    "page_href = requests.get(href_url)\n",
    "soup_href = BeautifulSoup(page_href.content, 'html.parser')"
   ]
  },
  {
   "cell_type": "code",
   "execution_count": 85,
   "id": "disabled-painting",
   "metadata": {},
   "outputs": [],
   "source": [
    "# class _1O0SKi has landmarks and get around         # get BS4 sub cats of this 2\n",
    "# class _1O0SKi with id info5 has hotel size\n",
    "\n",
    "body_href = soup_href.select_one('body div#root ._24UiGk ._3umLRC ._1rVrVi')\n",
    "# body_href, works"
   ]
  },
  {
   "cell_type": "code",
   "execution_count": 104,
   "id": "chubby-stability",
   "metadata": {
    "tags": []
   },
   "outputs": [
    {
     "data": {
      "text/plain": [
       "<li>This hotel has 347 rooms</li>"
      ]
     },
     "execution_count": 104,
     "metadata": {},
     "output_type": "execute_result"
    }
   ],
   "source": [
    "hotel_size = soup_href.find(id='info5', class_='_1O0SKi')   # this is a bs4 object containing which has a child containing num of rooms\n",
    "# info_href, works\n",
    "\n",
    "room_count = hotel_size.select('._1_22qw ._2Ut1Ms ul li')[0]\n",
    "room_count"
   ]
  },
  {
   "cell_type": "code",
   "execution_count": 176,
   "id": "precise-weekend",
   "metadata": {},
   "outputs": [],
   "source": [
    "# landmarks \n",
    "lndmrk_trnspo = soup_href.select_one('._1O0SKi')   # has children describing landmarks and transportation available"
   ]
  },
  {
   "cell_type": "code",
   "execution_count": 178,
   "id": "accepted-figure",
   "metadata": {},
   "outputs": [],
   "source": [
    "landmarks_bs4 = lndmrk_trnspo.select('ul li')      # the landmarks nearest to the place\n",
    "landmarks = [landmark.get_text() for landmark in landmarks_bs4]"
   ]
  },
  {
   "cell_type": "code",
   "execution_count": 185,
   "id": "hindu-kuwait",
   "metadata": {},
   "outputs": [
    {
     "data": {
      "text/plain": [
       "[<div><ul class=\"airport\"><li>Ninoy Aquino Intl. Airport (MNL) - <span class=\"distance-to-location\"><span class=\"distance-in-time\">20 min drive</span><span class=\"distance\"></span></span> </li></ul><ul class=\"train-station\"><li>Manila Buenidia Station - <span class=\"distance-to-location\"><span class=\"distance-in-time\">6 min drive</span><span class=\"distance\"></span> </span></li><li>Manila Vito Cruz Station - <span class=\"distance-to-location\"><span class=\"distance-in-time\">7 min drive</span><span class=\"distance\"></span> </span></li><li>Manila Paco Station - <span class=\"distance-to-location\"><span class=\"distance-in-time\">7 min drive</span><span class=\"distance\"></span> </span></li></ul><ul class=\"shuttle\"><li>Airport shuttle (surcharge)</li></ul></div>,\n",
       " <div></div>]"
      ]
     },
     "execution_count": 185,
     "metadata": {},
     "output_type": "execute_result"
    }
   ],
   "source": [
    "# transpo is further divided into categories\n",
    "# pre process transpo\n",
    "transpo_categories = lndmrk_trnspo.select('._2Ut1Ms div')      # outputs all categories and its transportation subs"
   ]
  },
  {
   "cell_type": "code",
   "execution_count": 8,
   "id": "supposed-flood",
   "metadata": {},
   "outputs": [],
   "source": [
    "# hotel_cards :: BeautifulSoup Object per hotel card in site, with tag li\n",
    "hotel_cardsBS = soup.select_one('body div#root ._24UiGk ._3umLRC ._3xUi2p ._3N2dPv ._1myav2 .RO5S5p ul._3f26d2')   # BeautifulSoup object of containing all cards"
   ]
  },
  {
   "cell_type": "code",
   "execution_count": null,
   "id": "duplicate-denial",
   "metadata": {},
   "outputs": [],
   "source": [
    "print(\n",
    "'''\n",
    "hotel name                  | \n",
    "address                     |\n",
    "rating                      |\n",
    "amneties                    |\n",
    "number of rooms             |\n",
    "price (2 person/ 1 day)     |\n",
    "reviews                     |\n",
    "landmarks                   |\n",
    "'''\n",
    ").format(\n",
    "    hotel_name,\n",
    "    rating,\n",
    "    amneties,\n",
    "    room_count,\n",
    "    price,\n",
    "    reviews,\n",
    "    landmarks)"
   ]
  }
 ],
 "metadata": {
  "kernelspec": {
   "display_name": "Python 3",
   "language": "python",
   "name": "python3"
  },
  "language_info": {
   "codemirror_mode": {
    "name": "ipython",
    "version": 3
   },
   "file_extension": ".py",
   "mimetype": "text/x-python",
   "name": "python",
   "nbconvert_exporter": "python",
   "pygments_lexer": "ipython3",
   "version": "3.8.8"
  }
 },
 "nbformat": 4,
 "nbformat_minor": 5
}

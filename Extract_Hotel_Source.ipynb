{
 "cells": [
  {
   "cell_type": "code",
   "execution_count": 110,
   "id": "respective-welding",
   "metadata": {
    "jupyter": {
     "source_hidden": true
    },
    "tags": []
   },
   "outputs": [],
   "source": [
    "# old query\n",
    "from bs4 import BeautifulSoup\n",
    "from requests_html import HTMLSession\n",
    "\n",
    "requests = HTMLSession()             # instantiate the HTMLSession Object, this returns executed JS code hence return html is the same as that of the page\n",
    "                                     # with the requests library, via requests.get(url), that was not the case. The query randomly returns either run or unrun html"
   ]
  },
  {
   "cell_type": "code",
   "execution_count": 12,
   "id": "assisted-clock",
   "metadata": {},
   "outputs": [],
   "source": [
    "# new html query\n",
    "\n",
    "# using selenium to scrape dynamic website\n",
    "from selenium import webdriver\n",
    "from selenium.webdriver.chrome.options import Options\n",
    "\n",
    "import requests_html\n",
    "import pandas as pd\n",
    "import os\n",
    "from bs4 import BeautifulSoup \n",
    "from requests_html import HTMLSession\n",
    "from time import sleep"
   ]
  },
  {
   "cell_type": "code",
   "execution_count": 15,
   "id": "contemporary-payment",
   "metadata": {},
   "outputs": [],
   "source": [
    "driver.quit()   # serve as restart mechanism "
   ]
  },
  {
   "cell_type": "code",
   "execution_count": 17,
   "id": "bored-webster",
   "metadata": {},
   "outputs": [],
   "source": [
    "# define the browser and add the -- headless argument\n",
    "\n",
    "chromedriver_path = os.getcwd() + '\\\\chromedriver\\\\chromedriver.exe'\n",
    "\n",
    "opts = Options()\n",
    "# opts.headless = True\n",
    "opts.add_argument(' — headless')\n",
    "driver = webdriver.Chrome(chromedriver_path, options=opts)\n",
    "\n",
    "url_q1 = 'https://ph.hotels.com/search.do?resolved-location=COUNTRY%3A10233139%3AUNKNOWN%3AUNKNOWN&destination-'\n",
    "url_q2 = 'id=10233139&q-destination=Philippines&q-check-in=2021-10-10&q-check-out=2021-10-11&q-rooms=1&q-room-0-adults=2&q-room-0-children=0'\n",
    "\n",
    "url  = url_q1 + url_q2\n",
    "driver.maximize_window()\n",
    "driver.get(url)                   # open the url, the process is automated\n",
    "\n",
    "# the webpage is dynamic, continously scrolling down adds 12 more hotel cards in the results-list\n",
    "# in order to gather enough data, we recursively execute a scroll down script\n",
    "\n",
    "# with init at i = 1 with 12 hotel cards, keep scrolling\n",
    "i = 1\n",
    "batches = 84\n",
    "wait_time = 10\n",
    "\n",
    "while i <= batches: \n",
    "    # this adds 12 more hotel cards per iteration, if i > 84, the script stops, that is we end up with 1008 ...\n",
    "    # ... hotel cards\n",
    "    driver.execute_script(\"window.scrollTo(0, document.body.scrollHeight,)\")    # scroll down to the bottom\n",
    "    print('webpage currently has {0} hotel cards'.format(i*12))\n",
    "    print('loading next batch')\n",
    "    i += 1\n",
    "    sleep(10)   # gives time for the second scrolldown, adjust according to net speed.\n",
    "                # faster net merits smaller sleep times\n",
    "        \n",
    "print('done')"
   ]
  },
  {
   "cell_type": "code",
   "execution_count": 18,
   "id": "ahead-entrance",
   "metadata": {
    "tags": []
   },
   "outputs": [],
   "source": [
    "page = driver.page_source    # get html format of the webpage at 1008 hotel cards\n",
    "soup = BeautifulSoup(page, 'html.parser')\n"
   ]
  },
  {
   "cell_type": "code",
   "execution_count": 19,
   "id": "divided-illinois",
   "metadata": {
    "tags": []
   },
   "outputs": [],
   "source": [
    "# hotel_cards :: BeautifulSoup Object per hotel card in site, with tag li\n",
    "hotel_cardsBS = soup.select_one('body .resp-section .inner-section .resp-row .resp-col .main-inner section .h-listing .listings')   # BeautifulSoup object of containing all cards"
   ]
  },
  {
   "cell_type": "code",
   "execution_count": 20,
   "id": "prepared-confusion",
   "metadata": {
    "tags": []
   },
   "outputs": [
    {
     "name": "stdout",
     "output_type": "stream",
     "text": [
      "we have 26 distinct hotels\n"
     ]
    }
   ],
   "source": [
    "hotel_cards = hotel_cardsBS.find_all('li', recursive=False) # creates one BS obj per card from hotel card BeautifulSoup\n",
    "print('we have {0} distinct hotels'.format(len(hotel_cards)))"
   ]
  },
  {
   "cell_type": "markdown",
   "id": "geological-transmission",
   "metadata": {},
   "source": [
    "<h3> <b> Inspecting one of the hotel cards </b> </h3>\n",
    "Upon inspection the ff were idd.\n",
    "<li> an a tag with further data given by the attribute href\n",
    "<li> address: in _2oHhXM contains address with format: specific, town/city, zip, province, Philippines \n",
    "<li> amenities: in ?\n",
    "<li> price: in ? #rate is one day for 2 persons\n",
    "<li> h ref has it all, must go to href for number of rooms\n",
    "<blockquote>\n",
    "    <li> number of rooms in:\n",
    "    <li> customer reviews in:\n",
    "    <li> add landmarks, and getting around: in \n",
    "</blockquote>"
   ]
  },
  {
   "cell_type": "code",
   "execution_count": 21,
   "id": "unlikely-converter",
   "metadata": {},
   "outputs": [],
   "source": [
    "# try getting information from 1 hotel card\n",
    "# proof of concept\n",
    "hotel_sample = hotel_cards[1]"
   ]
  },
  {
   "cell_type": "code",
   "execution_count": 22,
   "id": "historical-tanzania",
   "metadata": {},
   "outputs": [
    {
     "data": {
      "text/plain": [
       "'Conrad Manila'"
      ]
     },
     "execution_count": 22,
     "metadata": {},
     "output_type": "execute_result"
    }
   ],
   "source": [
    "hotel_name = hotel_sample['data-title']\n",
    "hotel_name\n"
   ]
  },
  {
   "cell_type": "code",
   "execution_count": 163,
   "id": "early-brooklyn",
   "metadata": {},
   "outputs": [
    {
     "data": {
      "text/plain": [
       "9.0"
      ]
     },
     "execution_count": 163,
     "metadata": {},
     "output_type": "execute_result"
    }
   ],
   "source": [
    "rating = hotel_sample.find('strong',class_='guest-reviews-badge').get_text()\n",
    "rating_decimal = float(''.join(i for i in filter(None,rating) if (i.isdigit()|(i=='.'))))"
   ]
  },
  {
   "cell_type": "code",
   "execution_count": 24,
   "id": "veterinary-slide",
   "metadata": {},
   "outputs": [
    {
     "data": {
      "text/plain": [
       "['Pool', 'Free parking', 'Airport transfer', 'Spa', 'Gym', 'Restaurant']"
      ]
     },
     "execution_count": 24,
     "metadata": {},
     "output_type": "execute_result"
    }
   ],
   "source": [
    "amenities     = hotel_sample.select('.hmvt8258-amenities')\n",
    "amenities_col = [amenity.get_text() for amenity in amenities[0].select('li')]\n",
    "amenities_col"
   ]
  },
  {
   "cell_type": "code",
   "execution_count": 25,
   "id": "quantitative-completion",
   "metadata": {},
   "outputs": [
    {
     "data": {
      "text/plain": [
       "'Seaside Boulevard, Corner of Coral Way, Mall of Asia Complex, Pasay, Manila, 1300, Philippines'"
      ]
     },
     "execution_count": 25,
     "metadata": {},
     "output_type": "execute_result"
    }
   ],
   "source": [
    "address = hotel_sample.find('span', class_='address').get_text()\n",
    "address       # can be split; address.split(', ') returns a list of loc, loc, mmo .... regardless start from last entry\n",
    "              # ie get the index of Philippines and go back this gives us | address.split(', ')[-1], pa front pero pa back"
   ]
  },
  {
   "cell_type": "code",
   "execution_count": 157,
   "id": "other-knife",
   "metadata": {},
   "outputs": [
    {
     "data": {
      "text/plain": [
       "6561"
      ]
     },
     "execution_count": 157,
     "metadata": {},
     "output_type": "execute_result"
    }
   ],
   "source": [
    "price = hotel_sample.find('a', class_='price-link').get_text()          # returns the likes of 'P6,221' \n",
    "price_int = int(''.join(i for i in filter(None,price) if i.isdigit()))  # filter returns list of all chars in price ['P',',','6','7','8'], loop over each element and \n",
    "                                                                        # create a new list satisfying only i.isdigit, join this into a string convert string into int\n",
    "price_int"
   ]
  },
  {
   "cell_type": "code",
   "execution_count": 29,
   "id": "practical-devices",
   "metadata": {},
   "outputs": [],
   "source": [
    "href     = hotel_sample.find('a', class_='property-name-link')['href']\n",
    "href_url = 'https://ph.hotels.com'+ href                                             # this is the link to the individual hotel information\n",
    "\n",
    "# open the page and get the ff\n",
    "# number of roms\n",
    "# customer review\n",
    "# landmarks\n",
    "\n",
    "requests = HTMLSession()\n",
    "\n",
    "page_href = requests.get(href_url)           \n",
    "soup_href = BeautifulSoup(page_href.content, 'html.parser')"
   ]
  },
  {
   "cell_type": "code",
   "execution_count": 94,
   "id": "hairy-reform",
   "metadata": {},
   "outputs": [],
   "source": [
    "landMarks_q1 = 'body div.resp-section main.inner-section div#property-details '\n",
    "landMarks_q2 = 'div#flexible-container-bottom div.whats-around-content-landmarks-transport' \n",
    "landmarks_transport = soup_href.select_one(landMarks_q1 + landMarks_q2)                        # gets to long if both queries are in one line\n",
    "\n",
    "landmarks = landmarks_transport.find(class_='whats-around-content landmarks')\n",
    "landmarks_col = [landmark.get_text() for landmark in landmarks.select('div.landmarks-expandable-wrapper ul.landmark-list li')]\n",
    "\n",
    "transports = landmarks_transport.find(class_='whats-around-content transport')\n",
    "transport_categories = [category['class'][0] for category in transports.select('ul')]                 # categegory['class'] returns a list, iregardless the first entry is the actual category\n",
    "\n",
    "transpo = lambda cat: [station.get_text() for station in transports.select('ul.{0} li'.format(cat))]  # helper function gets the list of all transports under category cat, cat :: str\n",
    "transports_col = {cat:transpo(cat) for cat in transport_categories}"
   ]
  },
  {
   "cell_type": "code",
   "execution_count": 95,
   "id": "inside-slope",
   "metadata": {},
   "outputs": [
    {
     "data": {
      "text/plain": [
       "['In Barangay 76',\n",
       " 'SM Mall of Asia - 8 min walk',\n",
       " 'SMX Convention Center - 3 min walk',\n",
       " 'Mall of Asia Arena - 6 min walk',\n",
       " 'World Trade Center Manila - 33 min walk',\n",
       " 'Cultural Center of the Philippines - 44 min walk',\n",
       " \"Children's Museum (Museo Pambata) - 4.2 mi / 6.7 km\",\n",
       " 'Rizal Park - 4.4 mi / 7.1 km']"
      ]
     },
     "execution_count": 95,
     "metadata": {},
     "output_type": "execute_result"
    }
   ],
   "source": [
    "landmarks_col"
   ]
  },
  {
   "cell_type": "code",
   "execution_count": 96,
   "id": "colored-bubble",
   "metadata": {},
   "outputs": [
    {
     "data": {
      "text/plain": [
       "{'airport': ['Ninoy Aquino Intl. Airport (MNL) - 20 min drive '],\n",
       " 'train-station': ['Manila Buenidia Station - 6 min drive ',\n",
       "  'Manila Vito Cruz Station - 7 min drive ',\n",
       "  'Manila Paco Station - 7 min drive '],\n",
       " 'shuttle': ['Airport shuttle (surcharge)']}"
      ]
     },
     "execution_count": 96,
     "metadata": {},
     "output_type": "execute_result"
    }
   ],
   "source": [
    "transports_col"
   ]
  },
  {
   "cell_type": "code",
   "execution_count": 124,
   "id": "decreased-alias",
   "metadata": {
    "tags": []
   },
   "outputs": [],
   "source": [
    "hSize_q1 = '#at-a-glance div.cont-wrap '          \n",
    "hSize_q2 = 'div.fact-sheet-columns div.col-8-24 div.info-box ul li'   # there are two instances of ul li tags in html, select_one always select first instance which is the one we need in our case\n",
    "hotel_size = soup_href.select_one(hSize_q1 + hSize_q2).get_text()     # this is a bs4 object containing which has a child containing num of rooms\n",
    "                                                                      # concatenated strings for shorter query in line\n",
    "    "
   ]
  },
  {
   "cell_type": "code",
   "execution_count": 127,
   "id": "young-minute",
   "metadata": {
    "tags": []
   },
   "outputs": [
    {
     "data": {
      "text/plain": [
       "347"
      ]
     },
     "execution_count": 127,
     "metadata": {},
     "output_type": "execute_result"
    }
   ],
   "source": [
    "room_count    = [int(roomCount) for roomCount in hotel_size.split() if roomCount.isdigit()][0]\n",
    "room_count"
   ]
  },
  {
   "cell_type": "code",
   "execution_count": null,
   "id": "sound-experience",
   "metadata": {},
   "outputs": [],
   "source": [
    "'''\n",
    "Works up to this point\n",
    "\n",
    "Note:\n",
    "- Change the link, used different check in and out times since unavailble na yung old check in out query. Was probably due to covid adjustments\n",
    "  Needs cleaner code\n",
    "- The individual queries will be removed once code is finished :: was simply following top down formats\n",
    "- Selenium sometimes load vanilla link, the one with unclear attribute names. Working solution, was to reload quit driver then reload.\n",
    "- works up to this point added numeral formatting\n",
    "- comments left\n",
    "'''"
   ]
  },
  {
   "cell_type": "code",
   "execution_count": null,
   "id": "parental-positive",
   "metadata": {},
   "outputs": [],
   "source": []
  },
  {
   "cell_type": "code",
   "execution_count": 16,
   "id": "respective-herald",
   "metadata": {},
   "outputs": [
    {
     "ename": "SyntaxError",
     "evalue": "invalid syntax (<ipython-input-16-ecc34dba13a1>, line 4)",
     "output_type": "error",
     "traceback": [
      "\u001b[1;36m  File \u001b[1;32m\"<ipython-input-16-ecc34dba13a1>\"\u001b[1;36m, line \u001b[1;32m4\u001b[0m\n\u001b[1;33m    hotel name                  |\u001b[0m\n\u001b[1;37m          ^\u001b[0m\n\u001b[1;31mSyntaxError\u001b[0m\u001b[1;31m:\u001b[0m invalid syntax\n"
     ]
    }
   ],
   "source": [
    "'''\n",
    "print(\n",
    "'''\n",
    "hotel name                  | \n",
    "address                     |\n",
    "rating                      |\n",
    "amneties                    |\n",
    "number of rooms             |\n",
    "price (2 person/ 1 day)     |\n",
    "reviews                     |\n",
    "landmarks                   |\n",
    "'''\n",
    ").format(\n",
    "    hotel_name,\n",
    "    rating,\n",
    "    amneties,\n",
    "    room_count,\n",
    "    price,\n",
    "    reviews,\n",
    "    landmarks)\n",
    "'''"
   ]
  }
 ],
 "metadata": {
  "kernelspec": {
   "display_name": "Python 3",
   "language": "python",
   "name": "python3"
  },
  "language_info": {
   "codemirror_mode": {
    "name": "ipython",
    "version": 3
   },
   "file_extension": ".py",
   "mimetype": "text/x-python",
   "name": "python",
   "nbconvert_exporter": "python",
   "pygments_lexer": "ipython3",
   "version": "3.8.8"
  }
 },
 "nbformat": 4,
 "nbformat_minor": 5
}

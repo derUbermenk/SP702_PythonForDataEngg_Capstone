{
 "cells": [
  {
   "cell_type": "code",
   "execution_count": 110,
   "id": "prompt-undergraduate",
   "metadata": {
    "tags": []
   },
   "outputs": [],
   "source": []
  },
  {
   "cell_type": "code",
   "execution_count": 86,
   "id": "daily-bailey",
   "metadata": {
    "tags": []
   },
   "outputs": [],
   "source": [
    "# using selenium to scrape dynamic website\n",
    "from selenium import webdriver\n",
    "from selenium.webdriver.chrome.options import Options\n",
    "\n",
    "# other libraries\n",
    "import pandas as pd\n",
    "import os\n",
    "from bs4 import BeautifulSoup \n",
    "from requests_html import HTMLSession\n",
    "from time import sleep\n",
    "from pandas import DataFrame"
   ]
  },
  {
   "cell_type": "code",
   "execution_count": 87,
   "id": "differential-adventure",
   "metadata": {
    "tags": []
   },
   "outputs": [],
   "source": [
    "def load_page(url:str, wait_time:int, batches:int) -> list:\n",
    "    '''\n",
    "    The browser sometimes return different htmls, fortunately there is a small variation in patterns.\n",
    "    As a workaround, this function tries to reload the page every time a pattern different from the reference html is returned.\n",
    "    \n",
    "    Parameters:\n",
    "    -----------------------\n",
    "    url :: str\n",
    "        the url of the parent page\n",
    "    \n",
    "    wait_time :: int\n",
    "        The pause time before the next scroll down is executed, allows the browser to load twelve more hotel cards\n",
    "        \n",
    "    batches :: int\n",
    "        The number of batches loaded (12 per batch), each scroll adds 1 batch of hotel cards\n",
    "        \n",
    "    Returns:\n",
    "    -----------------------\n",
    "    hotel_cardsBS :: list of BeautifulSoup Object\n",
    "        list containing immediate parent of the hotel cards and its children\n",
    "    \n",
    "    '''\n",
    "    # launch driver load get initial page html, and check if the same as reference html\n",
    "    driver = webdriver.Chrome(chromedriver_path, options=opts) \n",
    "    driver.maximize_window()\n",
    "    driver.get(url)\n",
    "    page_init = driver.page_source    \n",
    "    soup_init = BeautifulSoup(page_init, 'html.parser')\n",
    "    cardsBS4_init = soup_init.select_one('body .resp-section .inner-section .resp-row .resp-col .main-inner section .h-listing .listings')   \n",
    "    \n",
    "    if cardsBS4_init is None:    \n",
    "        # look at driver.navigate().refresh(), it might be better\n",
    "        # cardsBS4_init is only none when the html loaded is different from the referrence html, reload.\n",
    "        driver.quit()\n",
    "        load_page(url)\n",
    "    else:\n",
    "        # hotel\n",
    "        i = 1\n",
    "        while i <= batches: \n",
    "            # this adds 12 more hotel cards per iteration, if i > 84, the script stops, that is we end up with 1008 (hopefully- net problems) ...\n",
    "            # ... hotel cards\n",
    "            script = 'window.scrollTo(0, document.body.scrollHeight,)'\n",
    "            driver.execute_script(script)                                             # scroll down to the bottom\n",
    "            sleep(wait_time)                                                          # gives time for the second scrolldown, adjust according to net speed.\n",
    "            i+=1\n",
    "            \n",
    "        print('load_page done')\n",
    "        page     = driver.page_source                                                 # the resulting html after scroll downs\n",
    "        soup     = BeautifulSoup(page, 'html.parser')\n",
    "        selector = ('body .resp-section .inner-section .resp-row .resp-col' + \n",
    "                    ' .main-inner section .h-listing .listings')\n",
    "        hotel_cardsBS = soup.select_one(selector).find_all('li', recursive=False)\n",
    "        \n",
    "        return(hotel_cardsBS)\n",
    "\n",
    "def request(url:str, init_query) -> BeautifulSoup:\n",
    "    '''\n",
    "    Follows the same logic as the selenium page loader, but for vanilla soup objects.\n",
    "    reload page if the html of the page is different than that of the reference page.\n",
    "    Keep reloading until html of query is equivalent to reference html. \n",
    "    \n",
    "    Parameter:\n",
    "    --------------------------------------------------------------------------------\n",
    "    url :: str\n",
    "        the url of the parent page\n",
    "    \n",
    "    init_query :: bs4Object -> bs4Object\n",
    "        initial query with attribute names from reference html\n",
    "        \n",
    "    Return:\n",
    "    ---------------------------------------------------------------------------------\n",
    "    soup_init :: bs4Object\n",
    "        the parent page html, this is similar to the reference html\n",
    "        \n",
    "    Note:\n",
    "    ---------------------------------------------------------------------------------\n",
    "        requests.get(url) randomly returns different html formats, fortunately the set of html formats returned is finite.\n",
    "        reload the page until the reference format is returned.\n",
    "    '''\n",
    "    request   = HTMLSession()\n",
    "    page      = requests.get(url)\n",
    "    soup_init = BeautifulSoup(page.content, 'html.parser')\n",
    "    \n",
    "    # use this query uses attribute names similar to reference html, it this is None, the html loaded is different\n",
    "    init_query = init_query                                          \n",
    "    \n",
    "    if init_query is None:\n",
    "        requests(url,init_query)  # reload the html\n",
    "    else:\n",
    "        return soup_init          # this soup object is equivalent to reference html\n",
    "\n",
    "def init_df() -> DataFrame:\n",
    "    # features must be defined in the same order as the definitions in Hotel class\n",
    "    features = [ 'Hotel Name', 'Price', 'Rating', 'Barangay/Complex', 'City',\n",
    "                 'Province','Adjacent Landmarks', 'Terminals and Stations',\n",
    "                 'Rooms', 'Amenities', 'Reviews']\n",
    "\n",
    "    hotel_dataFrame = pd.DataFrame(features=columns)\n",
    "    return hotel_dataFrame\n",
    "\n",
    "def url() -> str:\n",
    "    # concat url, create a function for this one\n",
    "    url_q1 = 'https://ph.hotels.com/search.do?resolved-location=COUNTRY%3A10233139%3AUNKNOWN%3AUNKNOWN&destination-'\n",
    "    url_q2 = 'id=10233139&q-destination=Philippines&q-check-in=2021-10-10&q-check-out=2021-10-11&q-rooms=1&q-room-0-adults=2&q-room-0-children=0'\n",
    "    url = url_q1 + url_q2\n",
    "    \n",
    "    return url"
   ]
  },
  {
   "cell_type": "code",
   "execution_count": null,
   "id": "handy-administration",
   "metadata": {
    "tags": []
   },
   "outputs": [],
   "source": [
    "class Hotel:\n",
    "    def __init__(self, hotel_card:BeautifulSoup, dataFrame: DataFrame) -> Hotel:\n",
    "        '''\n",
    "        Initialize a hotel, where card is a bs4 Object, containing the hotel data\n",
    "        \n",
    "        note to self: classes can access global definitions, no need init class with requests object for indivPage\n",
    "                      and reviewPage\n",
    "        '''\n",
    "         \n",
    "        # helper variables\n",
    "        self.card = hotel_card             \n",
    "        self.address = self.get_address()\n",
    "        \n",
    "        individualPage = self.get_hotelPageSoup()\n",
    "        reviewPage     = self.get_reviewPageSoup(individualPage)\n",
    "    \n",
    "        # the features\n",
    "        self.hotel_name = self.get_name()\n",
    "        self.price      = self.get_price() \n",
    "        self.rating     = self.get_rating()\n",
    "        self.loc        = self.address[0]\n",
    "        self.city       = self.address[-4]\n",
    "        self.province   = self.address[-2]\n",
    "        self.landmarks  = self.get_landmarks()\n",
    "        self.terminals  = self.get_terminals()\n",
    "        self.rooms      = self.get_rooms()\n",
    "        self.ameneties  = self.get_amenities()\n",
    "        self.reviews    = self.get_reviews()\n",
    "        \n",
    "        # add to DataFrame\n",
    "        self.add_hotel(dataFrame)\n",
    "        \n",
    "    def get_name(self) -> str :\n",
    "        '''\n",
    "        Returns:\n",
    "            hotel_name :: str\n",
    "        '''\n",
    "        hotel_name = self.card['data-title']\n",
    "        return hotel_name\n",
    "    \n",
    "    def get_price(self) -> int:\n",
    "        '''\n",
    "        Returns\n",
    "            price :: int\n",
    "            \n",
    "        pricing(Php) for 2 adults, one night sta y.\n",
    "        '''\n",
    "        price = self.card.find('a', class_='price-link').get_text()             # returns the likes of 'P6,221' \n",
    "        price_int = int(''.join(i for i in filter(None,price) if i.isdigit()))  # filter returns list of all chars in price ['P',',','6','7','8'], loop over each element and \n",
    "                                                                                # create a new list satisfying only i.isdigit, join this into a string convert string into int\n",
    "        return price_int\n",
    "    \n",
    "    def get_rating(self) -> float:\n",
    "        '''\n",
    "        Returns\n",
    "            rating :: float\n",
    "        '''\n",
    "        rating = self.card.find('strong',class_='guest-reviews-badge').get_text()\n",
    "        rating_float = float(''.join(i for i in filter(None,rating) if (i.isdigit()|(i=='.'))))    # float(the digit chars and '.' in the list of chars of rating)\n",
    "                                                                                                   # filter() :: str -> [char]\n",
    "        return rating_float\n",
    "    \n",
    "    def get_address(self) -> list:\n",
    "        '''\n",
    "        Returns\n",
    "            address :: str\n",
    "        \n",
    "        full address of the hotel, via list with format [loc1, loc2, city, zipCode, province, country]\n",
    "        ''' \n",
    "        address = self.card.find('span', class_='address').get_text()\n",
    "        address  = address.split(', ')                     # to get the list\n",
    "        \n",
    "        address_cp = address[-4:]                          # city has index -4 when from right to left, this is a list of locs from city -> country\n",
    "        address_sp = self.join_specificAdds(address[:-4])  # concatenate the specific addresses\n",
    "        \n",
    "        address = address_cp.insert(index=0, address_sp)   # address now has elements: [address_sp, city, zipCode, province, country]\n",
    "        return address\n",
    "    \n",
    "    def get_landmarks(self, individualPage: BeautifulSoup) -> list:\n",
    "        '''\n",
    "        Returns the list of all landmarks \n",
    "        with format:\n",
    "            landmark - distance\n",
    "        '''\n",
    "        \n",
    "        landmarks_q1 = 'body div.resp-section main.inner-section div#property-details '                   # cut the full query, into two parts ...\n",
    "        landmarks_q2 = 'div#flexible-container-bottom div.whats-around-content-landmarks-transport'       # ... to long for one line\n",
    "        landmarks    = individualPage.select_one(landmarks_q1 + landmarks_q2)                        \n",
    "        \n",
    "        landmarks = landmarks.find(class_='whats-around-content landmarks')\n",
    "        \n",
    "        landmarks_col = [landmark.get_text() for landmark in \n",
    "                         landmarks.select('div.landmarks-expandable-wrapper ul.landmark-list li')]\n",
    "        \n",
    "        return landmarks_col\n",
    "    \n",
    "    def get_terminals(self, individualPage: BeautifulSoup) -> dict:\n",
    "        '''\n",
    "        get dictionary of terminals where\n",
    "        dict.key = transportation type\n",
    "        dict.value = [Name of Terminal - distance from hotel]\n",
    "        '''\n",
    "        \n",
    "        transpo_q1    = 'body div.resp-section main.inner-section div#property-details '                   # cut the full query, into two parts ...\n",
    "        transpo_q2    = 'div#flexible-container-bottom div.whats-around-content-landmarks-transport'       # ... to long for one line\n",
    "        transpo_soup  = individualPage.select_one(transpo_q1 + transpo_q2)                        \n",
    "\n",
    "        transports    = transpo_soup.find(class_='whats-around-content transport')\n",
    "        transport_cat = [category['class'][0] for category in transports.select('ul')]   # categegory['class'] returns a list, regardless the first entry is the actual category of transportation\n",
    "                                                                                         # ... airport, train-station, etc\n",
    "            \n",
    "        terminal_query = lambda cat: ([station.get_text() for station in                 # helper function gets the list of all ...\n",
    "                                       transports.select('ul.{0} li'.format(cat))])      # ... transports under category cat, cat :: str\n",
    "        \n",
    "        transports_col = {category:terminal_query(cat) for category in transport_cat}\n",
    "        \n",
    "    def get_rooms(self, individualPage: BeautifulSoup) -> int:\n",
    "        '''\n",
    "        Returns the number of rooms in the hotel\n",
    "        '''\n",
    "        \n",
    "        hSize_q1   = '#at-a-glance div.cont-wrap '                              # query was two long for one line, divided in to two parts\n",
    "        hSize_q2   = 'div.fact-sheet-columns div.col-8-24 div.info-box ul li'   # there are two instances of ul li tags in html, select_one always select first instance which is the one we need\n",
    "        hotel_size = individualPage.select_one(hSize_q1 + hSize_q2).get_text()  # this is a bs4 object containing which has a child containing num of rooms\n",
    "                                                                                # concatenated strings for shorter query in line\n",
    "\n",
    "        room_count    = [int(word) for word in hotel_size.split() if word.isdigit()][0]\n",
    "        \n",
    "        # the extraction method follows from \n",
    "        # hotel_size has initial value 'This hotel has N number of rooms'\n",
    "        # .split() splits according to the presence of each word\n",
    "        # the list comprehension checks all strings with digits, in our case the room count, this is the same for all cases\n",
    "        # need to add exceptions, to avoid errors\n",
    "        \n",
    "        return room_count\n",
    "    \n",
    "    def get_amenities(self) ->  list:\n",
    "        '''\n",
    "        list of all amenities available to hotel\n",
    "        '''\n",
    "        \n",
    "        # updated from self.card.select('.hmvt8258-amenities') -> [amenities: BeautifulSoup, ... children of amenities]\n",
    "        # the old query then for amenities_col was amenities_col = [amenity.get_text() for amenity in amenities[0].select('li')]\n",
    "        \n",
    "        amenities     = self.card.select_one('.hmvt8258-amenities') # this returns BeautifulSoup Object instead of list\n",
    "        amenities_col = [amenity.get_text() for amenity in amenities.select('li')]\n",
    "        \n",
    "        return amenities_col\n",
    "    \n",
    "    def get_reviews(self, review_page: BeautifulSoup) -> list:\n",
    "        '''\n",
    "        Returns a list of the reviews for the hotel\n",
    "        Each review is a dictionary and has the following items:\n",
    "        \n",
    "         'reviewer': name of reviewer\n",
    "         'rating': rating given be reviewer\n",
    "         'trip type': type of the trip; how long did the reviewer stay\n",
    "         'comment': what the reviewer had to say in particular\n",
    "        '''\n",
    "        \n",
    "        # helper variables and functions\n",
    "        class_names = ['reviewer', 'rating-score', 'trip-type-nights', 'expandable-content description']  # Names of the classes that point to an ...\n",
    "                                                                                                          # ... attribute of a review card\n",
    "        get_content = lambda card, class_name: card.find(class_= class_name).get_text()                    \n",
    "        to_float    = lambda content: float(''.join(i for i in filter(None,rating) if (i.isdigit()|(i=='.'))))  # convert string to float \n",
    "        \n",
    "        review      = lambda card: {'reviewer': get_content(card, class_names[0]), \n",
    "                                    'rating': to_float(get_content(card, class_names[1])),                       # remove to_float if not working\n",
    "                                    'trip type': get_content(card, class_names[2]),\n",
    "                                    'comment': get_content(card, class_names[3])\n",
    "                                    }\n",
    "        \n",
    "        review_cards = reviews_page.select('div.review-card')\n",
    "        reviews = [review(card) for card in review_cards[0:15]]   # get formatted card reviews for 15 reviews\n",
    "        \n",
    "        \n",
    "    def add_hotel(self, DataFrame):\n",
    "        '''\n",
    "        Adds the hotel to a dataFrame\n",
    "        \n",
    "        Parameters\n",
    "        -----------------------------\n",
    "        dataFrame :: Pandas.DataFrame\n",
    "        '''\n",
    "        hotel = self.__dict__                       # all the attributes in hotel in dictionary format ; feature_name : feature : value\n",
    "        hotel.pop('card'); hotel.pop('address')     # remove unnecessary features, from the dictionary\n",
    "            \n",
    "        dataFrame.append(hotel, ignore_indes=True)\n",
    "        \n",
    "    # helper functions\n",
    "    def get_hotelPageSoup(self) -> BeautifulSoup:\n",
    "        '''\n",
    "        Gets the individual hotel card\n",
    "        '''\n",
    "        \n",
    "        href      = self.card.find('a', class_='property-name-link')['href']       # get the text in the attribute href\n",
    "        href_url  = 'https://ph.hotels.com'+ href                                  # this is the link to the individual hotel information\n",
    "\n",
    "        page_href = requests.get(href_url)                                         # requests also returns different htmls sometime, do the same recursion used in selenium loading \n",
    "        soup_href = BeautifulSoup(page_href.content, 'html.parser')\n",
    "        \n",
    "        return soup_href\n",
    "    \n",
    "    def get_reviewPageSoup(self, idPage:BeautifulSoup) -> BeautifulSoup:\n",
    "        '''\n",
    "        Gets the review page from the indivdual card\n",
    "        '''\n",
    "        \n",
    "        revPage_linkQuery = soup_href.select_one('div#property-reviews div.see-all-reviews a')\n",
    "        reviewPage_link   = 'https://ph.hotels.com' + see_allRevs['href']       # to review\n",
    "        \n",
    "        review_page     = requests.get(reviewPage_link)\n",
    "        review_pageSoup = BeautifulSoup(review_page.content, 'html.parser')\n",
    "        \n",
    "        return review_pageSoup\n",
    "\n",
    "    def join_specificAdds(self, specific_address:str) -> str:\n",
    "        '''\n",
    "        there are instances where there are 3 separate specific address before city hence the need\n",
    "        specific_address is a list of the addresses before the city\n",
    "        '''\n",
    "        specific_add = ''\n",
    "        index = 1\n",
    "        for i in specific_address:\n",
    "            if index != len(b):\n",
    "                specific_add += (i + ', ')  # add the first address + ', ' to separate\n",
    "                index += 1\n",
    "            else:\n",
    "                specific_add += i           # add the last specific address\n",
    "                \n",
    "        return specific_add                 # specific address is a string\n",
    "    \n"
   ]
  },
  {
   "cell_type": "code",
   "execution_count": null,
   "id": "generic-general",
   "metadata": {
    "tags": []
   },
   "outputs": [],
   "source": [
    "def main():\n",
    "    \n",
    "    chromedriver_path = os.getcwd() + '\\\\chromedriver\\\\chromedriver.exe'\n",
    "    opts = Options(); opts.add_argument(' — headless')     \n",
    "    requests = HTMLSession()             \n",
    "   \n",
    "    \n",
    "    hotels = init_df()   # initialize dataframe\n",
    "    url  = url()\n",
    "    \n",
    "    hotel_cards = load_page(url, wait_time=10, batches=1)\n",
    "    \n",
    "    # create a function for this one\n",
    "    for hotel_card in hotel_cards:\n",
    "        Hotel(hotel_card, hotel_data)"
   ]
  },
  {
   "cell_type": "markdown",
   "id": "seventh-bread",
   "metadata": {
    "tags": []
   },
   "source": [
    "<h3> <b> Test case for querying on single hotel card </b> </h3>\n",
    "<i> Used as basis for the code above </i>"
   ]
  },
  {
   "cell_type": "code",
   "execution_count": 89,
   "id": "actual-integer",
   "metadata": {
    "collapsed": true,
    "jupyter": {
     "outputs_hidden": true,
     "source_hidden": true
    },
    "tags": []
   },
   "outputs": [
    {
     "name": "stdout",
     "output_type": "stream",
     "text": [
      "we have 26 distinct hotels\n"
     ]
    }
   ],
   "source": [
    "hotel_cards = hotel_cardsBS.find_all('li', recursive=False) # creates one BS obj per card from hotel card BeautifulSoup\n",
    "print('we have {0} distinct hotels'.format(len(hotel_cards)))"
   ]
  },
  {
   "cell_type": "markdown",
   "id": "fatal-offering",
   "metadata": {
    "jupyter": {
     "source_hidden": true
    },
    "tags": []
   },
   "source": [
    "<h3> <b> Inspecting one of the hotel cards </b> </h3>\n",
    "Upon inspection the ff were idd.\n",
    "<li> an a tag with further data given by the attribute href\n",
    "<li> address: in _2oHhXM contains address with format: specific, town/city, zip, province, Philippines \n",
    "<li> amenities: in ?\n",
    "<li> price: in ? #rate is one day for 2 persons\n",
    "<li> h ref has it all, must go to href for number of rooms\n",
    "<blockquote>\n",
    "    <li> number of rooms in:\n",
    "    <li> customer reviews in:\n",
    "    <li> add landmarks, and getting around: in \n",
    "</blockquote>"
   ]
  },
  {
   "cell_type": "code",
   "execution_count": 90,
   "id": "light-endorsement",
   "metadata": {
    "collapsed": true,
    "jupyter": {
     "outputs_hidden": true,
     "source_hidden": true
    },
    "tags": []
   },
   "outputs": [],
   "source": [
    "# try getting information from 1 hotel card\n",
    "# proof of concept\n",
    "hotel_sample = hotel_cards[1]"
   ]
  },
  {
   "cell_type": "code",
   "execution_count": 91,
   "id": "mineral-being",
   "metadata": {
    "collapsed": true,
    "jupyter": {
     "outputs_hidden": true,
     "source_hidden": true
    },
    "tags": []
   },
   "outputs": [
    {
     "data": {
      "text/plain": [
       "'Conrad Manila'"
      ]
     },
     "execution_count": 91,
     "metadata": {},
     "output_type": "execute_result"
    }
   ],
   "source": [
    "hotel_name = hotel_sample['data-title']\n",
    "hotel_name"
   ]
  },
  {
   "cell_type": "code",
   "execution_count": 9,
   "id": "marked-oakland",
   "metadata": {
    "collapsed": true,
    "jupyter": {
     "outputs_hidden": true,
     "source_hidden": true
    },
    "tags": []
   },
   "outputs": [],
   "source": [
    "rating = hotel_sample.find('strong',class_='guest-reviews-badge').get_text()\n",
    "rating_decimal = float(''.join(i for i in filter(None,rating) if (i.isdigit()|(i=='.'))))"
   ]
  },
  {
   "cell_type": "code",
   "execution_count": 10,
   "id": "thousand-washer",
   "metadata": {
    "collapsed": true,
    "jupyter": {
     "outputs_hidden": true,
     "source_hidden": true
    },
    "tags": []
   },
   "outputs": [
    {
     "data": {
      "text/plain": [
       "['Pool', 'Free parking', 'Airport transfer', 'Spa', 'Gym', 'Restaurant']"
      ]
     },
     "execution_count": 10,
     "metadata": {},
     "output_type": "execute_result"
    }
   ],
   "source": [
    "amenities     = hotel_sample.select('.hmvt8258-amenities')\n",
    "amenities_col = [amenity.get_text() for amenity in amenities[0].select('li')]\n",
    "amenities_col"
   ]
  },
  {
   "cell_type": "code",
   "execution_count": 11,
   "id": "innovative-fellowship",
   "metadata": {
    "collapsed": true,
    "jupyter": {
     "outputs_hidden": true,
     "source_hidden": true
    },
    "tags": []
   },
   "outputs": [],
   "source": [
    "address = hotel_sample.find('span', class_='address').get_text()\n",
    "address       # can be split; address.split(', ') returns a list of loc, loc, mmo .... regardless start from last entry\n",
    "              # ie get the index of Philippines and go back this gives us | address.split(', ')[-1], pa front pero pa back"
   ]
  },
  {
   "cell_type": "code",
   "execution_count": 12,
   "id": "advisory-checklist",
   "metadata": {
    "collapsed": true,
    "jupyter": {
     "outputs_hidden": true,
     "source_hidden": true
    },
    "tags": []
   },
   "outputs": [
    {
     "data": {
      "text/plain": [
       "6561"
      ]
     },
     "execution_count": 12,
     "metadata": {},
     "output_type": "execute_result"
    }
   ],
   "source": [
    "price = hotel_sample.find('a', class_='price-link').get_text()          # returns the likes of 'P6,221' \n",
    "price_int = int(''.join(i for i in filter(None,price) if i.isdigit()))  # filter returns list of all chars in price ['P',',','6','7','8'], loop over each element and \n",
    "                                                                        # create a new list satisfying only i.isdigit, join this into a string convert string into int\n",
    "price_int"
   ]
  },
  {
   "cell_type": "code",
   "execution_count": 34,
   "id": "disabled-retirement",
   "metadata": {
    "collapsed": true,
    "jupyter": {
     "outputs_hidden": true,
     "source_hidden": true
    }
   },
   "outputs": [],
   "source": [
    "href     = hotel_sample.find('a', class_='property-name-link')['href']\n",
    "href_url = 'https://ph.hotels.com'+ href                                             # this is the link to the individual hotel information\n",
    "\n",
    "# open the page and get the ff\n",
    "# number of roms\n",
    "# customer review\n",
    "# landmarks\n",
    "\n",
    "requests = HTMLSession()\n",
    "\n",
    "page_href = requests.get(href_url) # requests also returns different htmls sometime, do the same recursion used in selenium loading \n",
    "soup_href = BeautifulSoup(page_href.content, 'html.parser')\n",
    "\n",
    "landMarks_q1 = 'body div.resp-section main.inner-section div#property-details '\n",
    "landMarks_q2 = 'div#flexible-container-bottom div.whats-around-content-landmarks-transport' \n",
    "landmarks_transport = soup_href.select_one(landMarks_q1 + landMarks_q2)                        # gets to long if both queries are in one line\n",
    "\n",
    "landmarks = landmarks_transport.find(class_='whats-around-content landmarks')\n",
    "landmarks_col = [landmark.get_text() for landmark in landmarks.select('div.landmarks-expandable-wrapper ul.landmark-list li')]\n",
    "\n",
    "transports = landmarks_transport.find(class_='whats-around-content transport')\n",
    "transport_categories = [category['class'][0] for category in transports.select('ul')]                 # categegory['class'] returns a list, iregardless the first entry is the actual category\n",
    "\n",
    "transpo = lambda cat: [station.get_text() for station in transports.select('ul.{0} li'.format(cat))]  # helper function gets the list of all transports under category cat, cat :: str\n",
    "transports_col = {cat:transpo(cat) for cat in transport_categories}"
   ]
  },
  {
   "cell_type": "code",
   "execution_count": 35,
   "id": "handmade-training",
   "metadata": {
    "collapsed": true,
    "jupyter": {
     "outputs_hidden": true,
     "source_hidden": true
    }
   },
   "outputs": [
    {
     "data": {
      "text/plain": [
       "['In Barangay 76',\n",
       " 'SM Mall of Asia - 8 min walk',\n",
       " 'SMX Convention Center - 3 min walk',\n",
       " 'Mall of Asia Arena - 6 min walk',\n",
       " 'World Trade Center Manila - 33 min walk',\n",
       " 'Cultural Center of the Philippines - 44 min walk',\n",
       " \"Children's Museum (Museo Pambata) - 4.2 mi / 6.7 km\",\n",
       " 'Rizal Park - 4.4 mi / 7.1 km']"
      ]
     },
     "execution_count": 35,
     "metadata": {},
     "output_type": "execute_result"
    }
   ],
   "source": [
    "landmarks_col"
   ]
  },
  {
   "cell_type": "code",
   "execution_count": 36,
   "id": "charitable-fighter",
   "metadata": {
    "collapsed": true,
    "jupyter": {
     "outputs_hidden": true,
     "source_hidden": true
    }
   },
   "outputs": [
    {
     "data": {
      "text/plain": [
       "{'airport': ['Ninoy Aquino Intl. Airport (MNL) - 20 min drive '],\n",
       " 'train-station': ['Manila Buenidia Station - 6 min drive ',\n",
       "  'Manila Vito Cruz Station - 7 min drive ',\n",
       "  'Manila Paco Station - 7 min drive '],\n",
       " 'shuttle': ['Airport shuttle (surcharge)']}"
      ]
     },
     "execution_count": 36,
     "metadata": {},
     "output_type": "execute_result"
    }
   ],
   "source": [
    "transports_col"
   ]
  },
  {
   "cell_type": "code",
   "execution_count": 38,
   "id": "trained-dakota",
   "metadata": {
    "collapsed": true,
    "jupyter": {
     "outputs_hidden": true,
     "source_hidden": true
    },
    "tags": []
   },
   "outputs": [],
   "source": [
    "hSize_q1 = '#at-a-glance div.cont-wrap '          \n",
    "hSize_q2 = 'div.fact-sheet-columns div.col-8-24 div.info-box ul li'   # there are two instances of ul li tags in html, select_one always select first instance which is the one we need in our case\n",
    "hotel_size = soup_href.select_one(hSize_q1 + hSize_q2).get_text()     # this is a bs4 object containing which has a child containing num of rooms\n",
    "                                                                      # concatenated strings for shorter query in line\n",
    "    \n",
    "\n",
    "room_count    = [int(roomCount) for roomCount in hotel_size.split() if roomCount.isdigit()][0]\n",
    "room_count"
   ]
  },
  {
   "cell_type": "code",
   "execution_count": 43,
   "id": "liberal-flash",
   "metadata": {
    "collapsed": true,
    "jupyter": {
     "outputs_hidden": true,
     "source_hidden": true
    }
   },
   "outputs": [],
   "source": [
    "# open another page for the reviews\n",
    "# starting from the individual hotel card\n",
    "see_allRevs = soup_href.select_one('div#property-reviews div.see-all-reviews a')\n",
    "allRevs_url = 'https://ph.hotels.com' + see_allRevs['href']       # to review\n",
    "\n",
    "\n",
    "reviews_page = requests.get(allRevs_url)\n",
    "reviews_soup = BeautifulSoup(reviews_page.content, 'html.parser')\n",
    "\n",
    "review_cards = reviews_soup.select('div.review-card')\n",
    "\n",
    "# needs another recursion function see first implementation; addresses problem when browser loads different html, keep reloading\n",
    "# until the right html -- review_cards is not NoneType is loaded.\n",
    "\n",
    "review_cards\n",
    "# get only 15\n",
    "\n",
    "# sample query for one card\n",
    "# get the name, rating, trip type and the review , delete this later\n",
    "name = review_cards[0].find(class_='reviewer').get_text()\n",
    "rating = review_cards[0].find(class_='rating-score').get_text()\n",
    "trip_type = review_cards[0].find(class_='trip-type-nights').get_text()\n",
    "comment = review_cards[0].find(class_='expandable-content description').get_text()\n",
    "\n",
    "\n",
    "\n",
    "# implementation\n",
    "# the logic of the ff follows from the logic of the ff query :: name = review_cards[0].find(class_='reviewer').get_text()\n",
    "class_names = ['reviewer', 'rating-score', 'trip-type-nights', 'expandable-content description'] # this are the names of the classes\n",
    "get_content = lambda card, class_name: card.find(class_= class_name).get_text()\n",
    "review      = lambda card: {'reviewer': get_content(card, class_names[0]), \n",
    "                            'rating': get_content(card, class_names[1]),\n",
    "                            'trip type': get_content(card, class_names[2]),\n",
    "                            'comment': get_content(card, class_names[3])\n",
    "                            }\n",
    "\n",
    "reviews = [review(card) for card in review_cards[0:15]]   # get formatted card reviews"
   ]
  }
 ],
 "metadata": {
  "kernelspec": {
   "display_name": "Python 3",
   "language": "python",
   "name": "python3"
  },
  "language_info": {
   "codemirror_mode": {
    "name": "ipython",
    "version": 3
   },
   "file_extension": ".py",
   "mimetype": "text/x-python",
   "name": "python",
   "nbconvert_exporter": "python",
   "pygments_lexer": "ipython3",
   "version": "3.8.8"
  }
 },
 "nbformat": 4,
 "nbformat_minor": 5
}

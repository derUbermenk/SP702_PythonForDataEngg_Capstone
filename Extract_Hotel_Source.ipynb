{
 "cells": [
  {
   "cell_type": "code",
   "execution_count": 175,
   "id": "demonstrated-gentleman",
   "metadata": {},
   "outputs": [],
   "source": [
    "# import libraries\n",
    "from bs4 import BeautifulSoup\n",
    "import requests\n",
    "\n",
    "url  = 'https://ph.hotels.com/search.do?q-destination=Philippines&destination-id=10233139&as-shown=false&q-localised-check-in=06%2F04%2F2021&q-check-in=2021-04-06&q-localised-check-out=07%2F04%2F2021&q-check-out=2021-04-07&q-rooms=1&q-room-0-adults=2&q-room-0-children=0&intlid=modular%20country%20landing%20%3A%3A%20SQM'\n",
    "page = requests.get(url)             # connect to we'bsite\n",
    "#soup = BeautifulSoup(page.contents, 'html.parser')   # vanilla call\n",
    "soup = BeautifulSoup(page.text)                # use instead if returning different html formats, which is in my case"
   ]
  },
  {
   "cell_type": "code",
   "execution_count": 207,
   "id": "virtual-jefferson",
   "metadata": {},
   "outputs": [
    {
     "data": {
      "text/plain": [
       "bs4.element.ResultSet"
      ]
     },
     "execution_count": 207,
     "metadata": {},
     "output_type": "execute_result"
    }
   ],
   "source": [
    "# hotel_cards :: BeautifulSoup Object per hotel card in site, with tag li\n",
    "hotel_cardsBS = soup.select_one('body div#root ._24UiGk ._3umLRC ._3xUi2p ._3N2dPv ._1myav2 .RO5S5p ul._3f26d2')   # BeautifulSoup object of containing all cards\n",
    "\n",
    "type(hotel_cards)"
   ]
  },
  {
   "cell_type": "code",
   "execution_count": 206,
   "id": "artificial-syndication",
   "metadata": {},
   "outputs": [
    {
     "name": "stdout",
     "output_type": "stream",
     "text": [
      "we have 78 distinct hotels\n"
     ]
    }
   ],
   "source": [
    "hotel_cards = hotel_cardsBS.find_all('li') # creates one BS obj per card from hotel card BeautifulSoup\n",
    "print('we have {0} distinct hotels'.format(len(hotel_cards)))"
   ]
  },
  {
   "cell_type": "markdown",
   "id": "light-three",
   "metadata": {},
   "source": [
    "<h3> <b> Inspecting one of the hotel cards </b> </h3>\n",
    "Upon inspection the ff were idd.\n",
    "<li> an a tag with further data given by the attribute href\n",
    "<li> address: in _2oHhXM contains address with format: specific, town/city, zip, province, Philippines \n",
    "<li> amenities: in ?\n",
    "<li> price: in ? #rate is one day for 2 persons\n",
    "<li> h ref has it all, must go to href for number of rooms\n",
    "<blockquote>\n",
    "    <li> number of rooms in:\n",
    "    <li> customer reviews in:\n",
    "    <li> add landmarks, and getting around: in \n",
    "</blockquote>"
   ]
  },
  {
   "cell_type": "code",
   "execution_count": null,
   "id": "forty-genre",
   "metadata": {},
   "outputs": [],
   "source": []
  }
 ],
 "metadata": {
  "kernelspec": {
   "display_name": "Python 3",
   "language": "python",
   "name": "python3"
  },
  "language_info": {
   "codemirror_mode": {
    "name": "ipython",
    "version": 3
   },
   "file_extension": ".py",
   "mimetype": "text/x-python",
   "name": "python",
   "nbconvert_exporter": "python",
   "pygments_lexer": "ipython3",
   "version": "3.8.8"
  }
 },
 "nbformat": 4,
 "nbformat_minor": 5
}
